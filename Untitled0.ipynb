{
  "nbformat": 4,
  "nbformat_minor": 0,
  "metadata": {
    "colab": {
      "name": "Untitled0.ipynb",
      "provenance": [],
      "collapsed_sections": [],
      "authorship_tag": "ABX9TyP1huLJs3eyAYfpl/SEqnMp",
      "include_colab_link": true
    },
    "kernelspec": {
      "name": "python3",
      "display_name": "Python 3"
    },
    "language_info": {
      "name": "python"
    }
  },
  "cells": [
    {
      "cell_type": "markdown",
      "metadata": {
        "id": "view-in-github",
        "colab_type": "text"
      },
      "source": [
        "<a href=\"https://colab.research.google.com/github/JulioMaravilla/Agendamigocouch/blob/TiendaSQLCouchDB/Untitled0.ipynb\" target=\"_parent\"><img src=\"https://colab.research.google.com/assets/colab-badge.svg\" alt=\"Open In Colab\"/></a>"
      ]
    },
    {
      "cell_type": "code",
      "source": [
        "print(\"hola mundo\")\n",
        "\n",
        "n1=10\n",
        "n2=23.8\n",
        "n3=(n1+n2)\n",
        "n4=\"su repuesta es\"\n",
        "print(n4, n3)\n",
        "\n",
        "\n",
        "\n"
      ],
      "metadata": {
        "colab": {
          "base_uri": "https://localhost:8080/"
        },
        "id": "RzmD8GNKkB3L",
        "outputId": "8dec0cf2-6dc9-4e3b-f816-36823db92fcf"
      },
      "execution_count": null,
      "outputs": [
        {
          "output_type": "stream",
          "name": "stdout",
          "text": [
            "hola mundo\n",
            "su repuesta es 33.8\n"
          ]
        }
      ]
    },
    {
      "cell_type": "code",
      "source": [
        "nombre= \"Julio Maravilla\"\n",
        "print(\"tu nombre es \", nombre, \"su longitud es: \" , len(nombre), \"tus iniciales son: \", nombre[0], nombre[6], type (nombre)) "
      ],
      "metadata": {
        "colab": {
          "base_uri": "https://localhost:8080/"
        },
        "id": "MME-wS52nizs",
        "outputId": "e266702c-6d2f-4dc8-bcbd-f55d4f76d680"
      },
      "execution_count": null,
      "outputs": [
        {
          "output_type": "stream",
          "name": "stdout",
          "text": [
            "tu nombre es  Julio Maravilla su longitud es:  15 tus iniciales son:  J M <class 'str'>\n"
          ]
        }
      ]
    },
    {
      "cell_type": "code",
      "source": [
        ""
      ],
      "metadata": {
        "id": "hOZdU2gKreR5"
      },
      "execution_count": null,
      "outputs": []
    }
  ]
}